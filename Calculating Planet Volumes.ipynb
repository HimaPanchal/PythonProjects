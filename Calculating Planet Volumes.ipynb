{
 "cells": [
  {
   "cell_type": "code",
   "execution_count": 1,
   "id": "f25c3875",
   "metadata": {},
   "outputs": [],
   "source": [
    "import numpy as np # Mini Project in exploring functionalities of Numpy for finding Volume of Planets"
   ]
  },
  {
   "cell_type": "code",
   "execution_count": 5,
   "id": "e3dd066b",
   "metadata": {},
   "outputs": [
    {
     "name": "stdout",
     "output_type": "stream",
     "text": [
      "4188790.2047863905\n"
     ]
    }
   ],
   "source": [
    "radii = np.array([6371,69911,25362,24622,3389.5,58232,6051.8,2439.7]) #Planets radius in array as a test\n",
    "\n",
    "r= 100 # constant test value\n",
    "Volume = 4/3 *np.pi * r**3 # Volume of Sphere is 4/3 PI r cube\n",
    "print(Volume) \n",
    "\n",
    "\n"
   ]
  },
  {
   "cell_type": "code",
   "execution_count": 6,
   "id": "391fa030",
   "metadata": {},
   "outputs": [
    {
     "name": "stdout",
     "output_type": "stream",
     "text": [
      "[1.08320692e+12 1.43128181e+15 6.83343557e+13 6.25257040e+13\n",
      " 1.63115610e+11 8.27129915e+14 9.28415346e+11 6.08272087e+10]\n"
     ]
    }
   ],
   "source": [
    "Volume = 4/3 *np.pi * radii**3  # Formula using real planet radii values\n",
    "print(Volume)"
   ]
  },
  {
   "cell_type": "code",
   "execution_count": 15,
   "id": "dec52551",
   "metadata": {},
   "outputs": [
    {
     "name": "stdout",
     "output_type": "stream",
     "text": [
      "[8.24479576e+07 2.68082573e+05 2.97291966e+09 ... 7.51494699e+08\n",
      " 1.69739832e+06 4.18879020e+03]\n"
     ]
    }
   ],
   "source": [
    "radii = np.random.randint(1,1000,10000) # Calculating values of fictional planets radius generated in between 1 and 1000 and step of 100000\n",
    "Volumes = 4/3 *np.pi * radii**3\n",
    "print(Volumes)"
   ]
  },
  {
   "cell_type": "code",
   "execution_count": null,
   "id": "f63f4b91",
   "metadata": {},
   "outputs": [],
   "source": []
  }
 ],
 "metadata": {
  "kernelspec": {
   "display_name": "Python 3 (ipykernel)",
   "language": "python",
   "name": "python3"
  },
  "language_info": {
   "codemirror_mode": {
    "name": "ipython",
    "version": 3
   },
   "file_extension": ".py",
   "mimetype": "text/x-python",
   "name": "python",
   "nbconvert_exporter": "python",
   "pygments_lexer": "ipython3",
   "version": "3.9.13"
  }
 },
 "nbformat": 4,
 "nbformat_minor": 5
}
