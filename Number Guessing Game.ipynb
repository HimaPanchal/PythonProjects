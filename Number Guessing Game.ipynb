{
 "cells": [
  {
   "cell_type": "code",
   "execution_count": 11,
   "id": "343e0439",
   "metadata": {},
   "outputs": [
    {
     "name": "stdout",
     "output_type": "stream",
     "text": [
      "What is your guess?26\n",
      "WOW , you got it - Great Work! \n"
     ]
    }
   ],
   "source": [
    "#Number Guessing game\n",
    "#Version 1 where you are only prompted once to guess the number \n",
    "#Constant number should be written in Caps lock\n",
    "CORRECT_NUMBER = 26\n",
    "user_guess = int(input(\"What is your guess? \"))\n",
    "\n",
    "if user_guess == CORRECT_NUMBER :\n",
    "    print(\"WOW , you got it - Great Work! \")\n",
    "else :\n",
    "    print(\"Sorry , it is incorrect\")"
   ]
  },
  {
   "cell_type": "code",
   "execution_count": null,
   "id": "33c98093",
   "metadata": {},
   "outputs": [
    {
     "name": "stdout",
     "output_type": "stream",
     "text": [
      "What is your guess? 25\n",
      "Sorry , it is incorrect\n",
      "What is your guess? 26\n",
      "WOW , you got it - Great Work! \n"
     ]
    }
   ],
   "source": [
    "#Version 2 \n",
    "#Just to give another chance to the player to guess again if incorrect\n",
    "CORRECT_NUMBER = 26\n",
    "while True:\n",
    "    \n",
    "        user_guess = int(input(\"What is your guess? \"))\n",
    "\n",
    "        if user_guess == CORRECT_NUMBER :\n",
    "            print(\"WOW , you got it - Great Work! \")\n",
    "            break\n",
    "        else :\n",
    "            print(\"Sorry , it is incorrect\")"
   ]
  },
  {
   "cell_type": "code",
   "execution_count": null,
   "id": "11879137",
   "metadata": {},
   "outputs": [],
   "source": [
    "#Version 3 \n",
    "#This is to improve the functionality of the player\n",
    "#importing one of the package which has different cool functionality\n",
    "\n"
   ]
  },
  {
   "cell_type": "code",
   "execution_count": 2,
   "id": "8dc2bf01",
   "metadata": {},
   "outputs": [
    {
     "name": "stdout",
     "output_type": "stream",
     "text": [
      "Try guessing the number that I am thinking , it is between 1 and 100\n",
      "What is your guess ? 99\n",
      "Your guess is too high, you have 4 guesses\n",
      "What is your guess ? 88\n",
      "Your guess is too high, you have 3 guesses\n",
      "What is your guess ? 66\n",
      "Your guess is too high, you have 2 guesses\n",
      "What is your guess ? 40\n",
      "Your guess is too low , you have 1 guesses\n",
      "What is your guess ? 55\n",
      "Your guess is too high, you have 0 guesses\n",
      "Sorry, you are out of guesses, the number you were after was 52\n"
     ]
    }
   ],
   "source": [
    "import random\n",
    "LOWEST_BOUND = 1 # Starting point of guess lowest boundary\n",
    "HIGHEST_BOUND = 100 # Highest it can go \n",
    "GUESS_LIMIT = 5 # How many times user can guess\n",
    "GUESS_COUNTER = 0 # Counter will keep track of how many times the user tried the guess\n",
    "CORRECT_NUMBER = random.randint(LOWEST_BOUND,HIGHEST_BOUND)\n",
    "\n",
    "print(f\"Try guessing the number that I am thinking , it is between {LOWEST_BOUND} and {HIGHEST_BOUND}\")\n",
    "while True : \n",
    "        user_guess = int(input(\"What is your guess ? \"))\n",
    "        GUESS_COUNTER +=1\n",
    "        remaining_guesses = GUESS_LIMIT - GUESS_COUNTER\n",
    "        \n",
    "        if  LOWEST_BOUND <= user_guess <= HIGHEST_BOUND :\n",
    "        \n",
    "            if user_guess == CORRECT_NUMBER : \n",
    "                print(f\"WOW , you got it - Great Work in {GUESS_COUNTER} guesses \")\n",
    "                break\n",
    "            elif user_guess < CORRECT_NUMBER :\n",
    "                print(f\"Your guess is too low , you have {remaining_guesses} guesses\")\n",
    "            else : # If user_guess > CORRECT_NUMBER\n",
    "                print(f\"Your guess is too high, you have {remaining_guesses} guesses\")\n",
    "                \n",
    "        else :\n",
    "                print(f\"Sorry , it is out of the range, your guess should be in between {LOWEST_BOUND} and {HIGHEST_BOUND}\")\n",
    "        \n",
    "        # That is when you end the game giving the error message \n",
    "        if remaining_guesses == 0 :\n",
    "                print(f\"Sorry, you are out of guesses, the number you were after was {CORRECT_NUMBER}\")\n",
    "                break\n",
    "                \n",
    "    \n"
   ]
  },
  {
   "cell_type": "code",
   "execution_count": null,
   "id": "cce49313",
   "metadata": {},
   "outputs": [],
   "source": []
  },
  {
   "cell_type": "code",
   "execution_count": null,
   "id": "aee69aaf",
   "metadata": {},
   "outputs": [],
   "source": []
  }
 ],
 "metadata": {
  "kernelspec": {
   "display_name": "Python 3 (ipykernel)",
   "language": "python",
   "name": "python3"
  },
  "language_info": {
   "codemirror_mode": {
    "name": "ipython",
    "version": 3
   },
   "file_extension": ".py",
   "mimetype": "text/x-python",
   "name": "python",
   "nbconvert_exporter": "python",
   "pygments_lexer": "ipython3",
   "version": "3.9.13"
  }
 },
 "nbformat": 4,
 "nbformat_minor": 5
}
